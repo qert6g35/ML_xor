{
 "cells": [
  {
   "cell_type": "markdown",
   "metadata": {},
   "source": [
    "# Projekt 1 – perceptron Rosenblatta\n",
    "\n",
    "## Temat: płytka sieć do nauki problemu XOR"
   ]
  },
  {
   "cell_type": "markdown",
   "metadata": {},
   "source": [
    "## Tasks:\n",
    "### Waiting\n",
    "\n",
    "* Dodać opisy zdjęć - skąd są\n",
    "* gradient_descent - zrobić aby było powtarzalne\n",
    "* ujednolicić nazwy zmiennych\n",
    "* gneracja wykresów - powtarzalność\n",
    "* wykresy błędu klasyfikacji - sprawdzić czy chodziło o to a nie czy o jakieś confusion matrix\n",
    "* Opis zaimplementowanych funkcji - dopieścić\n",
    "    - classification_correct\n",
    "* Opis zaimplementowanych zmiennych i stałych - eze\n",
    "\n",
    "* Wykresy błędu MSE (błędu średniokwadratowego) w obu warstwach (na przykładach uczących oraz na całym zbiorze uczącym) -nie jestem pewien o co chodzi z \"w obu warstwach (na przykładach uczących oraz na całym zbiorze uczącym)\":\n",
    "    - napisać do prowadzącego, \n",
    "    - przeszukać literature na temat mse dla MLP\n",
    "\n",
    "* wykresy wag w obu warstwach. - okej troche mi się nie chce\n",
    "\n",
    "### Ready\n",
    "* szybsze kończenie uczenia przy spadku MSE poniżej zadanej wartości\n",
    "\n",
    "### Done\n",
    "* wykresy błędu klasyfikacji (przyjmujemy próg 0.5 dla klasyfikacji 0-1)\n",
    "* Krótki opis problemu\n",
    "\n",
    "\n",
    "<!-- ### To do - jak wystarczy czasu - pewnie nie wystarczy:\n",
    "\n",
    "* dodanie momentum,\n",
    "* adaptacyjny współczynnik uczenia,\n",
    "* dodanie mini-batch. -->\n"
   ]
  },
  {
   "cell_type": "markdown",
   "metadata": {},
   "source": [
    "\n",
    "### Opis Problemu - MLP for XOR problem\n",
    "Problem XOR (Exclusive OR) stanowi kluczowy problem w uczeniu maszynowym, który ilustruje wyzwania związane z tworzeniem modeli opartych na neuronach lub sieciach neuronowych.\n",
    "\n",
    "XOR to logiczna operacja, która zwraca prawdę (1) tylko wtedy, gdy jedno z wejść jest prawdziwe, a drugie fałszywe.\n",
    "\n",
    "![Bramka XOR](./photos/XOR_tabela_prawdy.png)"
   ]
  },
  {
   "cell_type": "markdown",
   "metadata": {},
   "source": [
    "\n",
    "Problem polega na tym, że XOR nie jest liniowo separowalny - oznacza to, że nie można podzielić przestrzeni wejść linią (linią prostą w dwóch wymiarach lub płaszczyzną w trzech wymiarach), aby poprawnie oddzielić przypadki prawdziwe od fałszywych.\n",
    "\n",
    "![Przestrzeń cech XOR](./photos/XOR_przestrzen_wejsc.png)\n"
   ]
  },
  {
   "cell_type": "markdown",
   "metadata": {},
   "source": [
    "\n",
    "Tradycyjne modele liniowe, takie jak regresja logistyczna czy perceptron, nie są w stanie modelować funkcji XOR, ponieważ nie mogą stworzyć odpowiedniego podziału przestrzeni wejść. Jednak sieci neuronowe z warstwą ukrytą potrafią rozwiązać ten problem poprzez tworzenie nieliniowych kombinacji wejść. Wprowadzenie warstwy ukrytej pozwala na stworzenie odpowiednich granic decyzyjnych w przestrzeni cech, umożliwiając modelowi na nauczenie się funkcji XOR.\n",
    "\n",
    "![Rozwiązanie XOR za pomocą MLP](./photos/rozw_problemuXOR_MLP.png)\n"
   ]
  },
  {
   "cell_type": "markdown",
   "metadata": {},
   "source": [
    "\n",
    "W celu sprawnego nauczenia sieci i przedstawienia skondensowanych wyników, sieć domyślnie jest uczona 4 przypadków jednocześnie, tj zbierane są gradienty dla każdego przypdadku wejścia XOR i zmiany dW1, db1, dW2, db2 są wszystkie nakładane jednocześnie.  "
   ]
  },
  {
   "cell_type": "code",
   "execution_count": 3,
   "metadata": {},
   "outputs": [],
   "source": [
    "import numpy as np\n",
    "#import pandas as pd\n",
    "from matplotlib import pyplot as plt\n",
    "from datetime import datetime"
   ]
  },
  {
   "cell_type": "code",
   "execution_count": 4,
   "metadata": {},
   "outputs": [],
   "source": [
    "now = datetime.now().second # trochę bardziej losowe generowanie seeda\n",
    "np.random.seed(now) # on był pseudo losowy celowo XD"
   ]
  },
  {
   "cell_type": "code",
   "execution_count": 5,
   "metadata": {},
   "outputs": [],
   "source": [
    "# generowanie danych na podstawie parametrów podanych przez użytkownika\n",
    "def data_generator(random = False, multiply_by = 1, shuffle = True):\n",
    "    if random:\n",
    "        X = np.random.binomial(1, 0.5, (4*multiply_by, 2))\n",
    "        Y = np.array([[X[i][0] ^ X[i][1]] for i in range(0,X.shape[0])])\n",
    "    else:\n",
    "        X = np.array([[0,0],[0,1],[1,0],[1,1]])\n",
    "        Y = np.array([[0],[1],[1],[0]])\n",
    "        X = np.tile(X, (multiply_by, 1))\n",
    "        Y = np.tile(Y, (multiply_by, 1))\n",
    "        \n",
    "    if shuffle:\n",
    "        indices = np.arange(X.shape[0])\n",
    "        np.random.shuffle(indices)\n",
    "        X = X[indices]\n",
    "        Y = Y[indices]\n",
    "    return X, Y\n",
    "\n",
    "def shuffleIT(X,Y):\n",
    "    indices = np.arange(X.shape[0])\n",
    "    np.random.shuffle(indices)\n",
    "    X = X[indices]\n",
    "    Y = Y[indices]\n",
    "    return X,Y"
   ]
  },
  {
   "cell_type": "code",
   "execution_count": 6,
   "metadata": {},
   "outputs": [],
   "source": [
    "# funkcja aktywacji używana dla każdego neuronu\n",
    "def sigmoid(x): \n",
    "\treturn 1.0/(1.0 + np.exp(-x))\n",
    "# pochodna funkcji aktywacji używana przy obliczaniu wag w propagacji wstecznej\n",
    "def sigmoid_prime(x): \n",
    "    return x * (1 - x)"
   ]
  },
  {
   "cell_type": "code",
   "execution_count": 7,
   "metadata": {},
   "outputs": [],
   "source": [
    "# inicjalizacja wag i baiasów\n",
    "def initialize_params():\n",
    "    W1 = np.random.rand(2, 2) - 0.5\n",
    "    b1 = np.random.rand(1, 2) - 0.5\n",
    "    W2 = np.random.rand(2, 1) - 0.5\n",
    "    b2 = np.random.rand(1, 1) - 0.5\n",
    "    return W1, b1, W2, b2"
   ]
  },
  {
   "cell_type": "code",
   "execution_count": 8,
   "metadata": {},
   "outputs": [],
   "source": [
    "# funkcja odpowiedzialna za przeprowadzenie obliczeń sieci opartych na wejściu (X) oraz na Wagach(W1,W2) i bajasach (b1,b2)\n",
    "def forward_prop(W1, b1, W2, b2, X):\n",
    "    Z1 = np.dot(X,W1) + b1\n",
    "    A1 = sigmoid(Z1)\n",
    "    \n",
    "    Z2 = np.dot(A1,W2) + b2\n",
    "    A2 = sigmoid(Z2)\n",
    "    \n",
    "    return A1, A2\n",
    "\n",
    "# funkcja przeprowadzająca proces wstecznej propagacji za pomocą której obliczane są gradienty i zmiany jakie muszą być dodane do Wag i bajasów \n",
    "def backward_prop(A1, A2, W1, W2, X, Y, lr): \n",
    "    dA2 = Y - A2 # Pochodna będu MSE\n",
    "    Err = ((Y - A2) ** 2) # liczenie błędu MSE \n",
    "    dZ2 = dA2 * sigmoid_prime(A2)\n",
    "    \n",
    "    dA1 = dZ2.dot(W2.T)\n",
    "    dZ1 = dA1 * sigmoid_prime(A1) \n",
    "\n",
    "    dW1 = lr * X.T.dot(dZ1)\n",
    "    db1 = lr * np.sum(dZ1,axis=0,keepdims=True) * lr \n",
    "    dW2 = lr * A1.T.dot(dZ2) \n",
    "    db2 = lr * np.sum(dZ2,axis=0,keepdims=True) * lr \n",
    "\n",
    "    return dW1, db1, dW2, db2, Err\n",
    "\n",
    "def classification_correct(Y,A2):\n",
    "    N = 0\n",
    "    cases = 0\n",
    "    for odp in zip(Y,A2):\n",
    "        cases += 1\n",
    "        if  odp[0][0] == 1 and odp[1][0] >= 0.5 :\n",
    "            N += 1\n",
    "        if  odp[0][0] == 0 and odp[1][0] <= 0.5 :\n",
    "            N += 1\n",
    "    return N\n",
    "\n"
   ]
  },
  {
   "cell_type": "code",
   "execution_count": 9,
   "metadata": {},
   "outputs": [],
   "source": [
    "# def get_predictions(A2):\n",
    "### TO DO\n",
    "\n",
    "# def get_accuracy(predictions, Y):\n",
    "### TO DO\n",
    "\n",
    "def gradient_descent(X, Y, lr, iterations, logs = True,shuffle= False):\n",
    "    W1, b1, W2, b2 = initialize_params()# funkcja zwraca wagi i bajasy używane w sieci\n",
    "    #### NA LISTE CZY COS INNEGO PRZEROBIĆ\n",
    "    ErrorC1 = [] # lista błędów zbieranych w trakcie uczenia\n",
    "    ErrorC2 = [] # lista błędów zbieranych w trakcie uczenia\n",
    "    ErrorC3 = [] # lista błędów zbieranych w trakcie uczenia\n",
    "    ErrorC4 = [] # lista błędów zbieranych w trakcie uczenia\n",
    "    W111 = [] \n",
    "    W112 = []\n",
    "    W121 = [] \n",
    "    W122 = []\n",
    "    W211 = [] \n",
    "    W212 = []\n",
    "    W221 = [] \n",
    "    W222 = []\n",
    "    C = [] # lista zawierająca ilość poprawnie sklasyfikowanych elementów w danej próbie \n",
    "    for i in range(iterations):\n",
    "        A1, A2 = forward_prop(W1, b1, W2, b2, X)# Funkcja zwraca poziomy katywacji dla bydwu warstw\n",
    "        dW1, db1, dW2, db2, Err = backward_prop( A1, A2, W1, W2, X, Y, lr)\n",
    "        W1 = W1 + dW1\n",
    "        b1 = b1 + db1 \n",
    "        W2 = W2 + dW2 \n",
    "        b2 = b2 + db2\n",
    "        C.append(classification_correct(Y,A2))\n",
    "        ErrorC1.append(Err[0])\n",
    "        ErrorC2.append(Err[1])\n",
    "        ErrorC3.append(Err[2])\n",
    "        ErrorC4.append(Err[3])\n",
    "        if i % 1000 == 0 and logs:\n",
    "            print(\"Iteration: \", i)\n",
    "            print(A2.T)\n",
    "            print(Y.T)\n",
    "        if shuffle:\n",
    "            X,Y = shuffleIT(X,Y)\n",
    "    print(\"Final Predictions\")\n",
    "    print(A2.T)\n",
    "    print(Y.T)\n",
    "    return W1, b1, W2, b2, ErrorC1,ErrorC2,ErrorC3,ErrorC4, C"
   ]
  },
  {
   "cell_type": "code",
   "execution_count": 10,
   "metadata": {},
   "outputs": [
    {
     "name": "stdout",
     "output_type": "stream",
     "text": [
      "[[0 0]\n",
      " [0 1]\n",
      " [1 0]\n",
      " [1 1]]\n",
      "[[0]\n",
      " [1]\n",
      " [1]\n",
      " [0]]\n"
     ]
    },
    {
     "name": "stdout",
     "output_type": "stream",
     "text": [
      "Final Predictions\n",
      "[[0.02909538 0.98197287 0.98197273 0.01998227]]\n",
      "[[0 1 1 0]]\n"
     ]
    }
   ],
   "source": [
    "X, Y = data_generator(random = False, multiply_by = 1, shuffle = False)\n",
    "print(X)\n",
    "print(Y)\n",
    "W1, b1, W2, b2, ErrorC1,ErrorC2,ErrorC3,ErrorC4, C = gradient_descent(X, Y, 0.2, 30000, logs = False,shuffle= False)\n",
    "_, retrun = forward_prop(W1, b1, W2, b2,[[0,0],[0,1],[1,0],[1,1]])\n",
    "#print(retrun)\n",
    "#print(Error)"
   ]
  },
  {
   "cell_type": "code",
   "execution_count": 11,
   "metadata": {},
   "outputs": [
    {
     "data": {
      "image/png": "[encoded data removed]",
      "text/plain": [
       "<Figure size 432x288 with 1 Axes>"
      ]
     },
     "metadata": {
      "needs_background": "light"
     },
     "output_type": "display_data"
    }
   ],
   "source": [
    "plt.plot(C,'o:r')\n",
    "plt.xlabel('Iterations')\n",
    "plt.ylabel('Correct Classifications')\n",
    "plt.title('Classifications Plot')\n",
    "plt.grid(True)\n",
    "plt.show()"
   ]
  },
  {
   "cell_type": "code",
   "execution_count": 12,
   "metadata": {},
   "outputs": [
    {
     "data": {
      "image/png": "[encoded data removed]",
      "text/plain": [
       "<Figure size 432x288 with 1 Axes>"
      ]
     },
     "metadata": {
      "needs_background": "light"
     },
     "output_type": "display_data"
    }
   ],
   "source": [
    "plt.plot(ErrorC1, 'o:r')\n",
    "plt.plot(ErrorC2, 'o:g')\n",
    "plt.plot(ErrorC3, 'o:b')\n",
    "plt.plot(ErrorC4, 'o:k')\n",
    "plt.xlabel('Iterations')\n",
    "plt.ylabel('Error')\n",
    "plt.title('Error Plot')\n",
    "plt.grid(True)\n",
    "plt.show()\n"
   ]
  },
  {
   "cell_type": "code",
   "execution_count": 13,
   "metadata": {},
   "outputs": [
    {
     "data": {
      "image/png": "[encoded data removed]",
      "text/plain": [
       "<Figure size 432x288 with 1 Axes>"
      ]
     },
     "metadata": {
      "needs_background": "light"
     },
     "output_type": "display_data"
    }
   ],
   "source": [
    "plt.plot(ErrorC1, 'o:r')\n",
    "plt.xlabel('Iterations')\n",
    "plt.ylabel('Error')\n",
    "plt.title('Error Plot')\n",
    "plt.grid(True)\n",
    "plt.show()"
   ]
  },
  {
   "cell_type": "code",
   "execution_count": 14,
   "metadata": {},
   "outputs": [
    {
     "data": {
      "image/png": "[encoded data removed]",
      "text/plain": [
       "<Figure size 432x288 with 1 Axes>"
      ]
     },
     "metadata": {
      "needs_background": "light"
     },
     "output_type": "display_data"
    }
   ],
   "source": [
    "plt.plot(ErrorC2, 'o:g')\n",
    "plt.xlabel('Iterations')\n",
    "plt.ylabel('Error')\n",
    "plt.title('Error Plot')\n",
    "plt.grid(True)\n",
    "plt.show()"
   ]
  },
  {
   "cell_type": "code",
   "execution_count": 15,
   "metadata": {},
   "outputs": [
    {
     "data": {
      "image/png": "[encoded data removed]",
      "text/plain": [
       "<Figure size 432x288 with 1 Axes>"
      ]
     },
     "metadata": {
      "needs_background": "light"
     },
     "output_type": "display_data"
    }
   ],
   "source": [
    "plt.plot(ErrorC3, 'o:b')\n",
    "plt.xlabel('Iterations')\n",
    "plt.ylabel('Error')\n",
    "plt.title('Error Plot')\n",
    "plt.grid(True)\n",
    "plt.show()"
   ]
  },
  {
   "cell_type": "code",
   "execution_count": 16,
   "metadata": {},
   "outputs": [
    {
     "data": {
      "image/png": "[encoded data removed]",
      "text/plain": [
       "<Figure size 432x288 with 1 Axes>"
      ]
     },
     "metadata": {
      "needs_background": "light"
     },
     "output_type": "display_data"
    }
   ],
   "source": [
    "plt.plot(ErrorC4, 'o:k')\n",
    "plt.xlabel('Iterations')\n",
    "plt.ylabel('Error')\n",
    "plt.title('Error Plot')\n",
    "plt.grid(True)\n",
    "plt.show()"
   ]
  }
 ],
 "metadata": {
  "kernelspec": {
   "display_name": "nnxor",
   "language": "python",
   "name": "python3"
  },
  "language_info": {
   "codemirror_mode": {
    "name": "ipython",
    "version": 3
   },
   "file_extension": ".py",
   "mimetype": "text/x-python",
   "name": "python",
   "nbconvert_exporter": "python",
   "pygments_lexer": "ipython3",
   "version": "3.10.12"
  }
 },
 "nbformat": 4,
 "nbformat_minor": 2
}
