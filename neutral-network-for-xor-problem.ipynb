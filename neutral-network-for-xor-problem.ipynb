{
 "cells": [
  {
   "cell_type": "markdown",
   "metadata": {},
   "source": [
    "# Projekt 1 – perceptron Rosenblatta\n",
    "\n",
    "## Temat: płytka sieć do nauki problemu XOR"
   ]
  },
  {
   "cell_type": "markdown",
   "metadata": {},
   "source": [
    "## Tasks:\n",
    "### Waiting\n",
    "\n",
    "\n",
    "* Zaimplelentować mini - batche \n",
    "\n",
    "* Wykresy błędu MSE (błędu średniokwadratowego) w obu warstwach (na przykładach uczących oraz na całym zbiorze uczącym):\n",
    "    - dla warstwy ukrytej MSE\n",
    "    - dla całego ciągu uczącego \n",
    "    - dla przykładu uczącego\n",
    "\n",
    "* wykresy wag w obu warstwach.\n",
    "\n",
    "\n",
    "\n",
    "* Dodać opisy zdjęć - skąd są\n",
    "* ujednolicić nazwy zmiennych\n",
    "\n",
    "* Opis zaimplementowanych funkcji - dopieścić\n",
    "* Opis zaimplementowanych zmiennych i stałych - eze\n",
    "\n",
    "\n",
    "### In progres\n",
    "\n",
    "\n",
    "### Ready\n",
    "* szybsze kończenie uczenia przy spadku MSE poniżej zadanej wartości\n",
    "* wykresy błędu klasyfikacji\n",
    "\n",
    "### Done\n",
    "* wykresy błędu klasyfikacji (przyjmujemy próg 0.5 dla klasyfikacji 0-1)\n",
    "* Krótki opis problemu\n",
    "\n",
    "\n",
    "<!-- ### To do - jak wystarczy czasu - pewnie nie wystarczy:\n",
    "\n",
    "* dodanie momentum,\n",
    "* adaptacyjny współczynnik uczenia,\n",
    "* dodanie mini-batch. -->\n"
   ]
  },
  {
   "cell_type": "markdown",
   "metadata": {},
   "source": [
    "\n",
    "### Opis Problemu - MLP for XOR problem\n",
    "Problem XOR (Exclusive OR) stanowi kluczowy problem w uczeniu maszynowym, który ilustruje wyzwania związane z tworzeniem modeli opartych na neuronach lub sieciach neuronowych.\n",
    "\n",
    "XOR to logiczna operacja, która zwraca prawdę (1) tylko wtedy, gdy jedno z wejść jest prawdziwe, a drugie fałszywe.\n",
    "\n",
    "![Bramka XOR](./photos/XOR_tabela_prawdy.png)"
   ]
  },
  {
   "cell_type": "markdown",
   "metadata": {},
   "source": [
    "\n",
    "Problem polega na tym, że XOR nie jest liniowo separowalny - oznacza to, że nie można podzielić przestrzeni wejść linią (linią prostą w dwóch wymiarach lub płaszczyzną w trzech wymiarach), aby poprawnie oddzielić przypadki prawdziwe od fałszywych.\n",
    "\n",
    "![Przestrzeń cech XOR](./photos/XOR_przestrzen_wejsc.png)\n"
   ]
  },
  {
   "cell_type": "markdown",
   "metadata": {},
   "source": [
    "\n",
    "Tradycyjne modele liniowe, takie jak regresja logistyczna czy perceptron, nie są w stanie modelować funkcji XOR, ponieważ nie mogą stworzyć odpowiedniego podziału przestrzeni wejść. Jednak sieci neuronowe z warstwą ukrytą potrafią rozwiązać ten problem poprzez tworzenie nieliniowych kombinacji wejść. Wprowadzenie warstwy ukrytej pozwala na stworzenie odpowiednich granic decyzyjnych w przestrzeni cech, umożliwiając modelowi na nauczenie się funkcji XOR.\n",
    "\n",
    "![Rozwiązanie XOR za pomocą MLP](./photos/rozw_problemuXOR_MLP.png)\n"
   ]
  },
  {
   "cell_type": "markdown",
   "metadata": {},
   "source": [
    "\n",
    "W celu sprawnego nauczenia sieci i przedstawienia skondensowanych wyników, sieć domyślnie jest uczona 4 przypadków jednocześnie, tj zbierane są gradienty dla każdego przypdadku wejścia XOR i zmiany dW1, db1, dW2, db2 są wszystkie nakładane jednocześnie.  "
   ]
  },
  {
   "cell_type": "code",
   "execution_count": 34,
   "metadata": {},
   "outputs": [],
   "source": [
    "import numpy as np\n",
    "#import pandas as pd\n",
    "from matplotlib import pyplot as plt\n",
    "from datetime import datetime"
   ]
  },
  {
   "cell_type": "code",
   "execution_count": 35,
   "metadata": {},
   "outputs": [],
   "source": [
    "plt.rc('font', size=12)\n",
    "plt.rc('axes', labelsize=14, titlesize=14)\n",
    "plt.rc('legend', fontsize=12)\n",
    "plt.rc('xtick', labelsize=10)\n",
    "plt.rc('ytick', labelsize=10)"
   ]
  },
  {
   "cell_type": "code",
   "execution_count": 36,
   "metadata": {},
   "outputs": [],
   "source": [
    "now = datetime.now().second # trochę bardziej losowe generowanie seeda\n",
    "np.random.seed(now) # on był pseudo losowy celowo XD"
   ]
  },
  {
   "cell_type": "code",
   "execution_count": 37,
   "metadata": {},
   "outputs": [],
   "source": [
    "# generowanie danych na podstawie parametrów podanych przez użytkownika\n",
    "def data_generator(random = False, is_shuffle = True):\n",
    "    if random:\n",
    "        X = np.random.binomial(1, 0.5, (4, 2))\n",
    "        Y = np.array([[X[i][0] ^ X[i][1]] for i in range(0,X.shape[0])])\n",
    "    else:\n",
    "        X = np.array([[0,0],[0,1],[1,0],[1,1]])\n",
    "        Y = np.array([[0],[1],[1],[0]])     \n",
    "    if is_shuffle:\n",
    "        indices = np.arange(X.shape[0])\n",
    "        np.random.shuffle(indices)\n",
    "        X = X[indices]\n",
    "        Y = Y[indices]\n",
    "    return X, Y\n",
    "\n",
    "def shuffle(X,Y):\n",
    "    indices = np.arange(X.shape[0])\n",
    "    np.random.shuffle(indices)\n",
    "    X = X[indices]\n",
    "    Y = Y[indices]\n",
    "    return X,Y"
   ]
  },
  {
   "cell_type": "code",
   "execution_count": 38,
   "metadata": {},
   "outputs": [],
   "source": [
    "# funkcja aktywacji używana dla każdego neuronu\n",
    "def sigmoid(x): \n",
    "\treturn 1.0/(1.0 + np.exp(-x))\n",
    "# pochodna funkcji aktywacji używana przy obliczaniu wag w propagacji wstecznej\n",
    "def sigmoid_prime(x): \n",
    "    return x * (1 - x)"
   ]
  },
  {
   "cell_type": "code",
   "execution_count": 39,
   "metadata": {},
   "outputs": [],
   "source": [
    "# inicjalizacja wag i baiasów\n",
    "def initialize_params():\n",
    "    W1 = np.random.rand(2, 2) - 0.5\n",
    "    b1 = np.random.rand(1, 2) - 0.5\n",
    "    W2 = np.random.rand(2, 1) - 0.5\n",
    "    b2 = np.random.rand(1, 1) - 0.5\n",
    "    return W1, b1, W2, b2"
   ]
  },
  {
   "cell_type": "code",
   "execution_count": 40,
   "metadata": {},
   "outputs": [],
   "source": [
    "# funkcja odpowiedzialna za przeprowadzenie obliczeń sieci opartych na wejściu (X) oraz na Wagach(W1,W2) i bajasach (b1,b2)\n",
    "def forward_prop(W1, b1, W2, b2, X):\n",
    "    Z1 = np.dot(X,W1) + b1\n",
    "    A1 = sigmoid(Z1)\n",
    "    \n",
    "    Z2 = np.dot(A1,W2) + b2\n",
    "    A2 = sigmoid(Z2)\n",
    "    \n",
    "    return A1, A2\n",
    "\n",
    "# funkcja przeprowadzająca proces wstecznej propagacji za pomocą której obliczane są gradienty i zmiany jakie muszą być dodane do Wag i bajasów \n",
    "def backward_prop(A1, A2, W1, W2, X, Y, lr): \n",
    "    dA2 = Y - A2 # Pochodna będu MSE\n",
    "    dZ2 = dA2 * sigmoid_prime(A2)\n",
    "    \n",
    "    dA1 = dZ2.dot(W2.T)\n",
    "    dZ1 = dA1 * sigmoid_prime(A1) \n",
    "\n",
    "    dW1 = lr * X.T.dot(dZ1)\n",
    "    db1 = lr * np.sum(dZ1,axis=0,keepdims=True)\n",
    "    dW2 = lr * A1.T.dot(dZ2) \n",
    "    db2 = lr * np.sum(dZ2,axis=0,keepdims=True)\n",
    "\n",
    "    return dW1, db1, dW2, db2\n"
   ]
  },
  {
   "cell_type": "code",
   "execution_count": 41,
   "metadata": {},
   "outputs": [],
   "source": [
    "# zwraca błąd klasyfikacji\n",
    "def classification_error(Y,A2):\n",
    "    C = np.abs(Y - A2) > 0.5\n",
    "    return C.sum()/Y.size"
   ]
  },
  {
   "cell_type": "code",
   "execution_count": 42,
   "metadata": {},
   "outputs": [],
   "source": [
    "# def get_predictions(A2):\n",
    "### TO DO\n",
    "\n",
    "# def get_accuracy(predictions, Y):\n",
    "### TO DO\n",
    "\n",
    "def gradient_descent(X, Y, lr, iterations, logs = True, batch_size = 2):\n",
    "    W1, b1, W2, b2 = initialize_params()# funkcja zwraca wagi i bajasy używane w sieci\n",
    "    SE = []\n",
    "    CE = []\n",
    "    MSE = []\n",
    "    for i in range(iterations):\n",
    "        A1, A2 = forward_prop(W1, b1, W2, b2, X)# Funkcja zwraca poziomy katywacji dla bydwu warstw\n",
    "        SE_current = ((Y - A2) ** 2) # liczenie błędu kwadratowego\n",
    "        MSE.append(np.mean(SE_current))\n",
    "        SE.append(SE_current)\n",
    "        dW1, db1, dW2, db2 = backward_prop( A1, A2, W1, W2, X, Y, lr)\n",
    "        W1 = W1 + dW1\n",
    "        b1 = b1 + db1 \n",
    "        W2 = W2 + dW2 \n",
    "        b2 = b2 + db2\n",
    "        CE.append(classification_error(Y,A2))\n",
    "        if i % 1000 == 0 and logs:\n",
    "            print(\"Iteration: \", i)\n",
    "            print(A2.T)\n",
    "            print(Y.T)\n",
    "    print(\"Final Predictions\")\n",
    "    print(A2.T)\n",
    "    print(Y.T)\n",
    "    return W1, b1, W2, b2, CE, MSE, SE"
   ]
  },
  {
   "cell_type": "code",
   "execution_count": 43,
   "metadata": {},
   "outputs": [
    {
     "name": "stdout",
     "output_type": "stream",
     "text": [
      "Final Predictions\n",
      "[[0.00654109 0.99250241 0.99382971 0.00585765]]\n",
      "[[0 1 1 0]]\n"
     ]
    }
   ],
   "source": [
    "X, Y = data_generator(random = False, is_shuffle = False)\n",
    "W1, b1, W2, b2, CE, MSE, SE = gradient_descent(X, Y, 1, 30000, logs = False)"
   ]
  },
  {
   "cell_type": "markdown",
   "metadata": {},
   "source": [
    "### Błąd klasyfikacji CE"
   ]
  },
  {
   "cell_type": "code",
   "execution_count": 44,
   "metadata": {},
   "outputs": [
    {
     "data": {
      "image/png": "[encoded data removed]",
      "text/plain": [
       "<Figure size 432x288 with 1 Axes>"
      ]
     },
     "metadata": {
      "needs_background": "light"
     },
     "output_type": "display_data"
    }
   ],
   "source": [
    "plt.plot(CE,'o:r')\n",
    "plt.xlabel('Iterations')\n",
    "plt.ylabel('Classification Error [%]')\n",
    "plt.ylim([0, 1])\n",
    "plt.title('Wykres błędu klasyfikacji')\n",
    "plt.grid(True)\n",
    "plt.show()"
   ]
  },
  {
   "cell_type": "markdown",
   "metadata": {},
   "source": [
    "### Błąd średniokwadratowy MSE"
   ]
  },
  {
   "cell_type": "code",
   "execution_count": 45,
   "metadata": {},
   "outputs": [
    {
     "data": {
      "image/png": "[encoded data removed]",
      "text/plain": [
       "<Figure size 432x288 with 1 Axes>"
      ]
     },
     "metadata": {
      "needs_background": "light"
     },
     "output_type": "display_data"
    }
   ],
   "source": [
    "plt.plot(MSE)\n",
    "\n",
    "plt.xlabel('Iterations')\n",
    "plt.ylabel('')\n",
    "plt.title('Error Plot')\n",
    "plt.grid(True)\n",
    "plt.show()\n"
   ]
  }
 ],
 "metadata": {
  "kernelspec": {
   "display_name": "nnxor",
   "language": "python",
   "name": "python3"
  },
  "language_info": {
   "codemirror_mode": {
    "name": "ipython",
    "version": 3
   },
   "file_extension": ".py",
   "mimetype": "text/x-python",
   "name": "python",
   "nbconvert_exporter": "python",
   "pygments_lexer": "ipython3",
   "version": "3.10.12"
  }
 },
 "nbformat": 4,
 "nbformat_minor": 2
}
